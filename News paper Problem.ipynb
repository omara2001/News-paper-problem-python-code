{
 "cells": [
  {
   "cell_type": "markdown",
   "metadata": {},
   "source": [
    "# News paper Problem"
   ]
  },
  {
   "cell_type": "code",
   "execution_count": 2,
   "metadata": {},
   "outputs": [
    {
     "name": "stdout",
     "output_type": "stream",
     "text": [
      "Enter Random number for news paper:\n",
      "50\n",
      "Enter Random number for news paper:\n",
      "60\n",
      "Enter Random number for news paper:\n",
      "70\n",
      "Enter Random number for news paper:\n",
      "80\n",
      "Enter Random number for news paper:\n",
      "90\n",
      "Enter Random number for news paper:\n",
      "10\n",
      "Enter Random number for news paper:\n",
      "100\n",
      "Enter Random number for news paper:\n",
      "60\n",
      "Enter Random number for news paper:\n",
      "70\n",
      "Enter Random number for news paper:\n",
      "90\n",
      "Enter Random number for demand:\n",
      "100\n",
      "Enter Random number for demand:\n",
      "10\n",
      "Enter Random number for demand:\n",
      "15\n",
      "Enter Random number for demand:\n",
      "18\n",
      "Enter Random number for demand:\n",
      "20\n",
      "Enter Random number for demand:\n",
      "19\n",
      "Enter Random number for demand:\n",
      "50\n",
      "Enter Random number for demand:\n",
      "51\n",
      "Enter Random number for demand:\n",
      "224\n",
      "Enter Random number for demand:\n",
      "30\n"
     ]
    }
   ],
   "source": [
    "RN_ST = []\n",
    "\n",
    "n = 10\n",
    "  \n",
    "for i in range(0, n):\n",
    "    print('Enter Random number for news paper:')\n",
    "    ele = int(input())\n",
    "  \n",
    "    RN_ST.append(ele) # adding the element\n",
    "      \n",
    "RN_demand = []\n",
    "for i in range(0, n):\n",
    "    print('Enter Random number for demand:')\n",
    "    ele = int(input())\n",
    "  \n",
    "    RN_demand.append(ele) # adding the element\n",
    "      \n"
   ]
  },
  {
   "cell_type": "code",
   "execution_count": 3,
   "metadata": {},
   "outputs": [
    {
     "data": {
      "text/plain": [
       "[50, 60, 70, 80, 90, 10, 100, 60, 70, 90]"
      ]
     },
     "execution_count": 3,
     "metadata": {},
     "output_type": "execute_result"
    }
   ],
   "source": [
    "RN_ST"
   ]
  },
  {
   "cell_type": "code",
   "execution_count": 4,
   "metadata": {},
   "outputs": [
    {
     "data": {
      "text/plain": [
       "[100, 10, 15, 18, 20, 19, 50, 51, 224, 30]"
      ]
     },
     "execution_count": 4,
     "metadata": {},
     "output_type": "execute_result"
    }
   ],
   "source": [
    "RN_demand"
   ]
  },
  {
   "cell_type": "code",
   "execution_count": 5,
   "metadata": {},
   "outputs": [
    {
     "data": {
      "text/plain": [
       "['fair',\n",
       " 'fair',\n",
       " 'fair',\n",
       " 'fair',\n",
       " 'poor',\n",
       " 'good',\n",
       " 'poor',\n",
       " 'fair',\n",
       " 'fair',\n",
       " 'poor']"
      ]
     },
     "execution_count": 5,
     "metadata": {},
     "output_type": "execute_result"
    }
   ],
   "source": [
    "News_Type = []\n",
    "for i in RN_ST:\n",
    "    if i <= 35:\n",
    "        News_Type.append('good')\n",
    "    elif i <= 80:\n",
    "        News_Type.append('fair')\n",
    "    elif i ==0:\n",
    "        News_Type.append('poor')\n",
    "    else:\n",
    "        News_Type.append('poor')\n",
    "News_Type"
   ]
  },
  {
   "cell_type": "code",
   "execution_count": 6,
   "metadata": {},
   "outputs": [
    {
     "data": {
      "text/plain": [
       "[1, 1, 1, 1, 0, 2, 0, 1, 1, 0]"
      ]
     },
     "execution_count": 6,
     "metadata": {},
     "output_type": "execute_result"
    }
   ],
   "source": [
    "News_int = []\n",
    "for i in RN_ST:\n",
    "    if i <= 35:\n",
    "        News_int.append(2)\n",
    "    elif i <= 80:\n",
    "        News_int.append(1)\n",
    "    elif i ==0:\n",
    "        News_int.append(0)\n",
    "    else:\n",
    "        News_int.append(0)\n",
    "News_int"
   ]
  },
  {
   "cell_type": "code",
   "execution_count": 7,
   "metadata": {},
   "outputs": [
    {
     "data": {
      "text/plain": [
       "[90, 40, 50, 50, 40, 60, 50, 60, 90, 40]"
      ]
     },
     "execution_count": 7,
     "metadata": {},
     "output_type": "execute_result"
    }
   ],
   "source": [
    "Demand = []\n",
    "a=0\n",
    "for i in range(1, 11):\n",
    "  if News_int[a]==0 and RN_demand[a]>0 and RN_demand[a]<=44:\n",
    "    Demand.append(40)\n",
    "  elif News_int[a]==0 and RN_demand[a]>44 and RN_demand[a]<=66:\n",
    "     Demand.append(50)\n",
    "  elif News_int[a]==0 and RN_demand[a]>66 and RN_demand[a]<=82:\n",
    "     Demand.append(60)\n",
    "  elif News_int[a]==0 and RN_demand[a]>82 and RN_demand[a]<=94:\n",
    "     Demand.append(70)\n",
    "  elif News_int[a]==0 and RN_demand[a]>94 or RN_demand[a]==0:\n",
    "     Demand.append(80)\n",
    "  elif News_int[a]==2 and RN_demand[a]>0 and RN_demand[a]<=3:\n",
    "    Demand.append(40)\n",
    "  elif News_int[a]==2 and RN_demand[a]>3 and RN_demand[a]<=8:\n",
    "     Demand.append(50)\n",
    "  elif News_int[a]==2 and RN_demand[a]>8 and RN_demand[a]<=23:\n",
    "     Demand.append(60)\n",
    "  elif News_int[a]==2 and RN_demand[a]>23 and RN_demand[a]<=43:\n",
    "     Demand.append(70)\n",
    "  elif News_int[a]==2 and RN_demand[a]>43 and RN_demand[a]<=78:\n",
    "     Demand.append(80)\n",
    "  elif News_int[a]==2 and RN_demand[a]>78 and RN_demand[a]<=93:\n",
    "     Demand.append(90)\n",
    "  elif News_int[a]==2 and RN_demand[a]>93 or RN_demand[a]==0:\n",
    "     Demand.append(100) \n",
    "  elif News_int[a]==1 and RN_demand[a]>0 and RN_demand[a]<=10:\n",
    "    Demand.append(40)\n",
    "  elif News_int[a]==1 and RN_demand[a]>10 and RN_demand[a]<=28:\n",
    "     Demand.append(50)\n",
    "  elif News_int[a]==1 and RN_demand[a]>28 and RN_demand[a]<=68:\n",
    "     Demand.append(60)\n",
    "  elif News_int[a]==1 and RN_demand[a]>68 and RN_demand[a]<=88:\n",
    "     Demand.append(70)\n",
    "  elif News_int[a]==1 and RN_demand[a]>88 and RN_demand[a]<=96:\n",
    "     Demand.append(80)\n",
    "  elif News_int[a]==1 and RN_demand[a]>96 or RN_demand[a]==0:\n",
    "     Demand.append(90)\n",
    "\n",
    "  a+=1\n",
    "Demand"
   ]
  },
  {
   "cell_type": "code",
   "execution_count": 8,
   "metadata": {},
   "outputs": [
    {
     "data": {
      "text/plain": [
       "[35, 20.0, 25.0, 25.0, 20.0, 30.0, 25.0, 30.0, 35, 20.0]"
      ]
     },
     "execution_count": 8,
     "metadata": {},
     "output_type": "execute_result"
    }
   ],
   "source": [
    "sell=0.5\n",
    "revenue=[]\n",
    "for i in Demand:\n",
    "  if i>=70:\n",
    "     revenue.append(35)\n",
    "  else:\n",
    "    revenue.append(i*sell)\n",
    "  i+=1\n",
    "revenue\n"
   ]
  },
  {
   "cell_type": "code",
   "execution_count": 9,
   "metadata": {},
   "outputs": [
    {
     "data": {
      "text/plain": [
       "[23.1, 23.1, 23.1, 23.1, 23.1, 23.1, 23.1, 23.1, 23.1, 23.1]"
      ]
     },
     "execution_count": 9,
     "metadata": {},
     "output_type": "execute_result"
    }
   ],
   "source": [
    "cost=0.33\n",
    "x=70\n",
    "total_cost=[]\n",
    "for i in range(1, 11):\n",
    "  total_cost.append(x*cost)\n",
    "  i+=1\n",
    "total_cost\n"
   ]
  },
  {
   "cell_type": "code",
   "execution_count": 10,
   "metadata": {},
   "outputs": [
    {
     "data": {
      "text/plain": [
       "[3.4000000000000004, 0, 0, 0, 0, 0, 0, 0, 3.4000000000000004, 0]"
      ]
     },
     "execution_count": 10,
     "metadata": {},
     "output_type": "execute_result"
    }
   ],
   "source": [
    "lost_cost=0.17\n",
    "lost=[]\n",
    "for i in Demand:\n",
    "  if  i>70:\n",
    "    lost.append((i-70)*0.17)\n",
    "  else:\n",
    "    lost.append(0)\n",
    "lost"
   ]
  },
  {
   "cell_type": "code",
   "execution_count": 11,
   "metadata": {},
   "outputs": [
    {
     "data": {
      "text/plain": [
       "[0, 1.5, 1.0, 1.0, 1.5, 0.5, 1.0, 0.5, 0, 1.5]"
      ]
     },
     "execution_count": 11,
     "metadata": {},
     "output_type": "execute_result"
    }
   ],
   "source": [
    "cost_for_scrap =0.05\n",
    "scrap=[]\n",
    "for i in Demand:\n",
    "  if  i<70:\n",
    "    scrap.append((70-i)*0.05)\n",
    "  else:\n",
    "    scrap.append(0)\n",
    "scrap"
   ]
  },
  {
   "cell_type": "code",
   "execution_count": 12,
   "metadata": {},
   "outputs": [
    {
     "data": {
      "text/plain": [
       "[8.499999999999998,\n",
       " -1.6000000000000014,\n",
       " 2.8999999999999986,\n",
       " 2.8999999999999986,\n",
       " -1.6000000000000014,\n",
       " 7.399999999999999,\n",
       " 2.8999999999999986,\n",
       " 7.399999999999999,\n",
       " 8.499999999999998,\n",
       " -1.6000000000000014]"
      ]
     },
     "execution_count": 12,
     "metadata": {},
     "output_type": "execute_result"
    }
   ],
   "source": [
    "a=0\n",
    "profit=[]\n",
    "for i in range(1, 11):\n",
    "  profit.append(revenue[a]-total_cost[a]-lost[a]+scrap[a])\n",
    "  a+=1\n",
    "\n",
    "profit"
   ]
  },
  {
   "cell_type": "code",
   "execution_count": 13,
   "metadata": {},
   "outputs": [
    {
     "data": {
      "text/html": [
       "<div>\n",
       "<style scoped>\n",
       "    .dataframe tbody tr th:only-of-type {\n",
       "        vertical-align: middle;\n",
       "    }\n",
       "\n",
       "    .dataframe tbody tr th {\n",
       "        vertical-align: top;\n",
       "    }\n",
       "\n",
       "    .dataframe thead th {\n",
       "        text-align: right;\n",
       "    }\n",
       "</style>\n",
       "<table border=\"1\" class=\"dataframe\">\n",
       "  <thead>\n",
       "    <tr style=\"text-align: right;\">\n",
       "      <th></th>\n",
       "      <th>day</th>\n",
       "      <th>RN_NT</th>\n",
       "      <th>News_Type</th>\n",
       "      <th>RN_demand</th>\n",
       "      <th>Demand</th>\n",
       "      <th>revenue</th>\n",
       "      <th>total_cost</th>\n",
       "      <th>lost</th>\n",
       "      <th>scrap</th>\n",
       "      <th>profit</th>\n",
       "    </tr>\n",
       "  </thead>\n",
       "  <tbody>\n",
       "    <tr>\n",
       "      <th>0</th>\n",
       "      <td>1</td>\n",
       "      <td>50</td>\n",
       "      <td>fair</td>\n",
       "      <td>100</td>\n",
       "      <td>90</td>\n",
       "      <td>35.0</td>\n",
       "      <td>23.1</td>\n",
       "      <td>3.4</td>\n",
       "      <td>0.0</td>\n",
       "      <td>8.5</td>\n",
       "    </tr>\n",
       "    <tr>\n",
       "      <th>1</th>\n",
       "      <td>2</td>\n",
       "      <td>60</td>\n",
       "      <td>fair</td>\n",
       "      <td>10</td>\n",
       "      <td>40</td>\n",
       "      <td>20.0</td>\n",
       "      <td>23.1</td>\n",
       "      <td>0.0</td>\n",
       "      <td>1.5</td>\n",
       "      <td>-1.6</td>\n",
       "    </tr>\n",
       "    <tr>\n",
       "      <th>2</th>\n",
       "      <td>3</td>\n",
       "      <td>70</td>\n",
       "      <td>fair</td>\n",
       "      <td>15</td>\n",
       "      <td>50</td>\n",
       "      <td>25.0</td>\n",
       "      <td>23.1</td>\n",
       "      <td>0.0</td>\n",
       "      <td>1.0</td>\n",
       "      <td>2.9</td>\n",
       "    </tr>\n",
       "    <tr>\n",
       "      <th>3</th>\n",
       "      <td>4</td>\n",
       "      <td>80</td>\n",
       "      <td>fair</td>\n",
       "      <td>18</td>\n",
       "      <td>50</td>\n",
       "      <td>25.0</td>\n",
       "      <td>23.1</td>\n",
       "      <td>0.0</td>\n",
       "      <td>1.0</td>\n",
       "      <td>2.9</td>\n",
       "    </tr>\n",
       "    <tr>\n",
       "      <th>4</th>\n",
       "      <td>5</td>\n",
       "      <td>90</td>\n",
       "      <td>poor</td>\n",
       "      <td>20</td>\n",
       "      <td>40</td>\n",
       "      <td>20.0</td>\n",
       "      <td>23.1</td>\n",
       "      <td>0.0</td>\n",
       "      <td>1.5</td>\n",
       "      <td>-1.6</td>\n",
       "    </tr>\n",
       "    <tr>\n",
       "      <th>5</th>\n",
       "      <td>6</td>\n",
       "      <td>10</td>\n",
       "      <td>good</td>\n",
       "      <td>19</td>\n",
       "      <td>60</td>\n",
       "      <td>30.0</td>\n",
       "      <td>23.1</td>\n",
       "      <td>0.0</td>\n",
       "      <td>0.5</td>\n",
       "      <td>7.4</td>\n",
       "    </tr>\n",
       "    <tr>\n",
       "      <th>6</th>\n",
       "      <td>7</td>\n",
       "      <td>100</td>\n",
       "      <td>poor</td>\n",
       "      <td>50</td>\n",
       "      <td>50</td>\n",
       "      <td>25.0</td>\n",
       "      <td>23.1</td>\n",
       "      <td>0.0</td>\n",
       "      <td>1.0</td>\n",
       "      <td>2.9</td>\n",
       "    </tr>\n",
       "    <tr>\n",
       "      <th>7</th>\n",
       "      <td>8</td>\n",
       "      <td>60</td>\n",
       "      <td>fair</td>\n",
       "      <td>51</td>\n",
       "      <td>60</td>\n",
       "      <td>30.0</td>\n",
       "      <td>23.1</td>\n",
       "      <td>0.0</td>\n",
       "      <td>0.5</td>\n",
       "      <td>7.4</td>\n",
       "    </tr>\n",
       "    <tr>\n",
       "      <th>8</th>\n",
       "      <td>9</td>\n",
       "      <td>70</td>\n",
       "      <td>fair</td>\n",
       "      <td>224</td>\n",
       "      <td>90</td>\n",
       "      <td>35.0</td>\n",
       "      <td>23.1</td>\n",
       "      <td>3.4</td>\n",
       "      <td>0.0</td>\n",
       "      <td>8.5</td>\n",
       "    </tr>\n",
       "    <tr>\n",
       "      <th>9</th>\n",
       "      <td>10</td>\n",
       "      <td>90</td>\n",
       "      <td>poor</td>\n",
       "      <td>30</td>\n",
       "      <td>40</td>\n",
       "      <td>20.0</td>\n",
       "      <td>23.1</td>\n",
       "      <td>0.0</td>\n",
       "      <td>1.5</td>\n",
       "      <td>-1.6</td>\n",
       "    </tr>\n",
       "  </tbody>\n",
       "</table>\n",
       "</div>"
      ],
      "text/plain": [
       "   day  RN_NT News_Type  RN_demand  Demand  revenue  total_cost  lost  scrap  \\\n",
       "0    1     50      fair        100      90     35.0        23.1   3.4    0.0   \n",
       "1    2     60      fair         10      40     20.0        23.1   0.0    1.5   \n",
       "2    3     70      fair         15      50     25.0        23.1   0.0    1.0   \n",
       "3    4     80      fair         18      50     25.0        23.1   0.0    1.0   \n",
       "4    5     90      poor         20      40     20.0        23.1   0.0    1.5   \n",
       "5    6     10      good         19      60     30.0        23.1   0.0    0.5   \n",
       "6    7    100      poor         50      50     25.0        23.1   0.0    1.0   \n",
       "7    8     60      fair         51      60     30.0        23.1   0.0    0.5   \n",
       "8    9     70      fair        224      90     35.0        23.1   3.4    0.0   \n",
       "9   10     90      poor         30      40     20.0        23.1   0.0    1.5   \n",
       "\n",
       "   profit  \n",
       "0     8.5  \n",
       "1    -1.6  \n",
       "2     2.9  \n",
       "3     2.9  \n",
       "4    -1.6  \n",
       "5     7.4  \n",
       "6     2.9  \n",
       "7     7.4  \n",
       "8     8.5  \n",
       "9    -1.6  "
      ]
     },
     "execution_count": 13,
     "metadata": {},
     "output_type": "execute_result"
    }
   ],
   "source": [
    "import pandas as pd\n",
    "day=[1,2,3,4,5,6,7,8,9,10]\n",
    "t_lst  = list (zip(day, RN_ST,News_Type,RN_demand,Demand,revenue,total_cost,lost,scrap,profit))\n",
    "dt = pd.DataFrame(t_lst, columns = ['day', 'RN_NT', 'News_Type', 'RN_demand', 'Demand', 'revenue', 'total_cost', 'lost', 'scrap', 'profit'])\n",
    "\n",
    "dt\n"
   ]
  }
 ],
 "metadata": {
  "kernelspec": {
   "display_name": "Python 3",
   "language": "python",
   "name": "python3"
  },
  "language_info": {
   "codemirror_mode": {
    "name": "ipython",
    "version": 3
   },
   "file_extension": ".py",
   "mimetype": "text/x-python",
   "name": "python",
   "nbconvert_exporter": "python",
   "pygments_lexer": "ipython3",
   "version": "3.8.3"
  }
 },
 "nbformat": 4,
 "nbformat_minor": 4
}
